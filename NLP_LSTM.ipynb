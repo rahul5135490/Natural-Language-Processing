{
  "nbformat": 4,
  "nbformat_minor": 0,
  "metadata": {
    "colab": {
      "provenance": []
    },
    "kernelspec": {
      "name": "python3",
      "display_name": "Python 3"
    },
    "language_info": {
      "name": "python"
    }
  },
  "cells": [
    {
      "cell_type": "code",
      "execution_count": 1,
      "metadata": {
        "colab": {
          "base_uri": "https://localhost:8080/"
        },
        "id": "cpyD4Kec-t3s",
        "outputId": "56450639-dc7f-4d47-c805-159860a2e70b"
      },
      "outputs": [
        {
          "output_type": "stream",
          "name": "stderr",
          "text": [
            "[nltk_data] Downloading package stopwords to /root/nltk_data...\n",
            "[nltk_data]   Package stopwords is already up-to-date!\n"
          ]
        },
        {
          "output_type": "execute_result",
          "data": {
            "text/plain": [
              "True"
            ]
          },
          "metadata": {},
          "execution_count": 1
        }
      ],
      "source": [
        "import nltk\n",
        "nltk.download('stopwords')"
      ]
    },
    {
      "cell_type": "markdown",
      "source": [],
      "metadata": {
        "id": "QcxBTP0L-vA6"
      }
    },
    {
      "cell_type": "code",
      "source": [
        "import nltk\n",
        "nltk.download('wordnet')\n",
        "nltk.download('omw-1.4')"
      ],
      "metadata": {
        "colab": {
          "base_uri": "https://localhost:8080/"
        },
        "id": "Y5FsOGu-_XyX",
        "outputId": "cf91b12c-d7ae-4014-cd92-603a0a8decb3"
      },
      "execution_count": 2,
      "outputs": [
        {
          "output_type": "stream",
          "name": "stderr",
          "text": [
            "[nltk_data] Downloading package wordnet to /root/nltk_data...\n",
            "[nltk_data]   Package wordnet is already up-to-date!\n",
            "[nltk_data] Downloading package omw-1.4 to /root/nltk_data...\n",
            "[nltk_data]   Package omw-1.4 is already up-to-date!\n"
          ]
        },
        {
          "output_type": "execute_result",
          "data": {
            "text/plain": [
              "True"
            ]
          },
          "metadata": {},
          "execution_count": 2
        }
      ]
    },
    {
      "cell_type": "code",
      "source": [
        "import nltk\n",
        "\n",
        "# Download necessary NLTK data (run these lines ONCE)\n",
        "# You might get a pop-up window the first time, or it might download silently.\n",
        "try:\n",
        "    nltk.data.find('corpora/stopwords')\n",
        "except LookupError:\n",
        "    nltk.download('stopwords')\n",
        "\n",
        "try:\n",
        "    nltk.data.find('tokenizers/punkt')\n",
        "except LookupError:\n",
        "    nltk.download('punkt')\n",
        "\n",
        "try:\n",
        "    nltk.data.find('corpora/wordnet')\n",
        "except LookupError:\n",
        "    nltk.download('wordnet')\n",
        "\n",
        "try:\n",
        "    nltk.data.find('corpora/omw-1.4') # Often needed with wordnet\n",
        "except LookupError:\n",
        "    nltk.download('omw-1.4')\n",
        "\n",
        "print(\"NLTK data check complete. Proceeding with the notebook.\")"
      ],
      "metadata": {
        "colab": {
          "base_uri": "https://localhost:8080/"
        },
        "id": "wieyI9mv_aZd",
        "outputId": "30a31177-4765-4610-c488-2431e71725ff"
      },
      "execution_count": 3,
      "outputs": [
        {
          "output_type": "stream",
          "name": "stdout",
          "text": [
            "NLTK data check complete. Proceeding with the notebook.\n"
          ]
        },
        {
          "output_type": "stream",
          "name": "stderr",
          "text": [
            "[nltk_data] Downloading package wordnet to /root/nltk_data...\n",
            "[nltk_data]   Package wordnet is already up-to-date!\n",
            "[nltk_data] Downloading package omw-1.4 to /root/nltk_data...\n",
            "[nltk_data]   Package omw-1.4 is already up-to-date!\n"
          ]
        }
      ]
    },
    {
      "cell_type": "markdown",
      "source": [],
      "metadata": {
        "id": "ptgzvgbH-vGP"
      }
    },
    {
      "cell_type": "code",
      "source": [
        "import nltk\n",
        "nltk.download('punkt_tab') # Try this first, as the error explicitly asks for it."
      ],
      "metadata": {
        "colab": {
          "base_uri": "https://localhost:8080/"
        },
        "id": "YCv-h4Ru-vwC",
        "outputId": "5b71b2b7-a020-4be3-d86d-48450f7011bd"
      },
      "execution_count": 4,
      "outputs": [
        {
          "output_type": "stream",
          "name": "stderr",
          "text": [
            "[nltk_data] Downloading package punkt_tab to /root/nltk_data...\n",
            "[nltk_data]   Package punkt_tab is already up-to-date!\n"
          ]
        },
        {
          "output_type": "execute_result",
          "data": {
            "text/plain": [
              "True"
            ]
          },
          "metadata": {},
          "execution_count": 4
        }
      ]
    },
    {
      "cell_type": "code",
      "source": [
        "import pandas as pd\n",
        "import numpy as np\n",
        "from sklearn.model_selection import train_test_split\n",
        "from sklearn.preprocessing import LabelEncoder\n",
        "from tensorflow.keras.preprocessing.text import Tokenizer\n",
        "from tensorflow.keras.preprocessing.sequence import pad_sequences\n",
        "from tensorflow.keras.models import Sequential\n",
        "from tensorflow.keras.layers import Embedding, LSTM, Dense\n",
        "from tensorflow.keras.optimizers import Adam\n",
        "from sklearn.metrics import accuracy_score, classification_report\n",
        "\n",
        "import nltk\n",
        "from nltk.corpus import stopwords\n",
        "from nltk.stem import WordNetLemmatizer\n",
        "import re\n",
        "import string\n",
        "\n",
        "# --- Preprocessing Function (from Day 8 - ensure NLTK data is downloaded) ---\n",
        "lemmatizer = WordNetLemmatizer()\n",
        "stop_words = set(stopwords.words('english'))\n",
        "\n",
        "def preprocess_text(text):\n",
        "    text = text.lower()\n",
        "    text = re.sub(r'[^\\w\\s]', '', text)\n",
        "    tokens = nltk.word_tokenize(text)\n",
        "    filtered_tokens = [word for word in tokens if word not in stop_words]\n",
        "    lemmatized_tokens = [lemmatizer.lemmatize(word) for word in filtered_tokens]\n",
        "    return \" \".join(lemmatized_tokens) # Join back into a string for Tokenizer\n",
        "\n",
        "# --- Sample Dataset (from Day 10) ---\n",
        "data = {\n",
        "    'text': [\n",
        "        \"This movie is fantastic and I loved it!\",\n",
        "        \"What a terrible film, absolutely hated it.\",\n",
        "        \"The food was good, but the service was slow.\",\n",
        "        \"Excellent experience, highly recommend.\",\n",
        "        \"I regret wasting my time on this boring show.\",\n",
        "        \"Happy with the purchase, great product.\",\n",
        "        \"Worst customer service ever, very disappointed.\",\n",
        "        \"A surprisingly good story, well written.\"\n",
        "    ],\n",
        "    'sentiment': [\n",
        "        'positive', 'negative', 'negative', 'positive',\n",
        "        'negative', 'positive', 'negative', 'positive'\n",
        "    ]\n",
        "}\n",
        "df = pd.DataFrame(data)\n",
        "df['processed_text'] = df['text'].apply(preprocess_text)\n",
        "\n",
        "X_text = df['processed_text'] # Use the preprocessed text string for Tokenizer\n",
        "y = df['sentiment']\n",
        "\n",
        "# --- Label Encoding for y (from Day 11) ---\n",
        "label_encoder = LabelEncoder()\n",
        "y_encoded = label_encoder.fit_transform(y)\n",
        "print(f\"Label mapping: {list(label_encoder.classes_)} -> {label_encoder.transform(label_encoder.classes_)}\")\n",
        "\n",
        "# --- 1. Tokenize Text for Embedding Layer ---\n",
        "# num_words: the maximum number of words to keep, based on word frequency.\n",
        "# oov_token: token to represent out-of-vocabulary words.\n",
        "tokenizer = Tokenizer(num_words=500, oov_token=\"<unk>\") # A small vocab size for our tiny dataset\n",
        "tokenizer.fit_on_texts(X_text)\n",
        "\n",
        "print(f\"\\nVocabulary size learned by Tokenizer: {len(tokenizer.word_index)}\")\n",
        "print(f\"Sample word index (first 10): {list(tokenizer.word_index.items())[:10]}\")\n",
        "\n",
        "# 2. Convert texts to sequences of integers\n",
        "X_sequences = tokenizer.texts_to_sequences(X_text)\n",
        "print(f\"\\nOriginal sequences (first 2): {X_sequences[:2]}\")\n",
        "\n",
        "# 3. Pad sequences to ensure uniform length\n",
        "# maxlen: The maximum length of all sequences. Shorter sequences are padded, longer are truncated.\n",
        "# padding: 'post' adds padding at the end, 'pre' at the beginning.\n",
        "# truncating: 'post' truncates from the end, 'pre' from the beginning.\n",
        "max_sequence_length = max(len(seq) for seq in X_sequences) # Find the max length in our small dataset\n",
        "print(f\"Max sequence length: {max_sequence_length}\")\n",
        "\n",
        "X_padded = pad_sequences(X_sequences, maxlen=max_sequence_length, padding='post', truncating='post')\n",
        "print(f\"Padded sequences (first 2):\\n{X_padded[:2]}\")\n",
        "print(f\"Shape of padded sequences: {X_padded.shape}\")\n",
        "\n",
        "# --- Train-Test Split (using the new X_padded data) ---\n",
        "X_train_seq, X_test_seq, y_train_seq, y_test_seq = train_test_split(X_padded, y_encoded, test_size=0.3, random_state=42, stratify=y_encoded)\n",
        "\n",
        "print(f\"\\nTraining set size: {X_train_seq.shape[0]} samples\")\n",
        "print(f\"Test set size: {X_test_seq.shape[0]} samples\")"
      ],
      "metadata": {
        "colab": {
          "base_uri": "https://localhost:8080/"
        },
        "id": "BSa0TFdi-vzM",
        "outputId": "ca97b88f-797a-4b85-a211-2fc409768ceb"
      },
      "execution_count": 5,
      "outputs": [
        {
          "output_type": "stream",
          "name": "stdout",
          "text": [
            "Label mapping: ['negative', 'positive'] -> [0 1]\n",
            "\n",
            "Vocabulary size learned by Tokenizer: 33\n",
            "Sample word index (first 10): [('<unk>', 1), ('good', 2), ('service', 3), ('movie', 4), ('fantastic', 5), ('loved', 6), ('terrible', 7), ('film', 8), ('absolutely', 9), ('hated', 10)]\n",
            "\n",
            "Original sequences (first 2): [[4, 5, 6], [7, 8, 9, 10]]\n",
            "Max sequence length: 5\n",
            "Padded sequences (first 2):\n",
            "[[ 4  5  6  0  0]\n",
            " [ 7  8  9 10  0]]\n",
            "Shape of padded sequences: (8, 5)\n",
            "\n",
            "Training set size: 5 samples\n",
            "Test set size: 3 samples\n"
          ]
        }
      ]
    },
    {
      "cell_type": "code",
      "source": [
        "# --- Build the LSTM Model ---\n",
        "# Vocabulary size (add 1 because indices start from 1, and 0 is reserved for padding)\n",
        "vocab_size = len(tokenizer.word_index) + 1\n",
        "# Dimension of the word embeddings (a hyperparameter you can tune)\n",
        "embedding_dim = 100\n",
        "# Max sequence length (from Assignment 2)\n",
        "max_len = X_padded.shape[1]\n",
        "\n",
        "model_lstm = Sequential([\n",
        "    # 1. Embedding Layer: Converts positive integer (word indices) into dense vectors of fixed size\n",
        "    # input_dim: size of the vocabulary\n",
        "    # output_dim: dimension of the dense embedding\n",
        "    # input_length: length of input sequences\n",
        "    Embedding(input_dim=vocab_size, output_dim=embedding_dim, input_length=max_len),\n",
        "    # 2. LSTM Layer: Processes sequences. Returns either the last output or the full sequence of outputs.\n",
        "    # units: dimensionality of the output space (e.g., number of LSTM cells)\n",
        "    LSTM(units=128), # You can try different units like 64, 256\n",
        "    # 3. Dense Hidden Layer (Optional but often helps)\n",
        "    Dense(64, activation='relu'),\n",
        "    # 4. Output Layer: Single neuron for binary classification with sigmoid activation\n",
        "    Dense(1, activation='sigmoid')\n",
        "])\n",
        "\n",
        "# Compile the model\n",
        "model_lstm.compile(optimizer='adam', loss='binary_crossentropy', metrics=['accuracy'])\n",
        "\n",
        "# Print model summary\n",
        "print(\"\\n--- LSTM Model Summary ---\")\n",
        "model_lstm.summary()\n",
        "\n",
        "# Train the model\n",
        "print(\"\\n--- LSTM Model Training ---\")\n",
        "history_lstm = model_lstm.fit(X_train_seq, y_train_seq,\n",
        "                              epochs=50, # More epochs than FNN as LSTMs learn more complex patterns\n",
        "                              batch_size=2,\n",
        "                              validation_split=0.1,\n",
        "                              verbose=0)\n",
        "\n",
        "print(\"LSTM Model Training Finished.\")\n",
        "\n",
        "# Optional: Plot training history\n",
        "import matplotlib.pyplot as plt\n",
        "\n",
        "plt.figure(figsize=(12, 5))\n",
        "plt.subplot(1, 2, 1)\n",
        "plt.plot(history_lstm.history['accuracy'], label='Training Accuracy')\n",
        "plt.plot(history_lstm.history['val_accuracy'], label='Validation Accuracy')\n",
        "plt.title('LSTM Model Accuracy over Epochs')\n",
        "plt.xlabel('Epoch')\n",
        "plt.ylabel('Accuracy')\n",
        "plt.legend()\n",
        "\n",
        "plt.subplot(1, 2, 2)\n",
        "plt.plot(history_lstm.history['loss'], label='Training Loss')\n",
        "plt.plot(history_lstm.history['val_loss'], label='Validation Loss')\n",
        "plt.title('LSTM Model Loss over Epochs')\n",
        "plt.xlabel('Epoch')\n",
        "plt.ylabel('Loss')\n",
        "plt.legend()\n",
        "plt.tight_layout()\n",
        "plt.show()"
      ],
      "metadata": {
        "colab": {
          "base_uri": "https://localhost:8080/",
          "height": 884
        },
        "id": "68K01iVj-xSX",
        "outputId": "1fabf1c6-08a6-4f97-8b00-880b70294c18"
      },
      "execution_count": 6,
      "outputs": [
        {
          "output_type": "stream",
          "name": "stdout",
          "text": [
            "\n",
            "--- LSTM Model Summary ---\n"
          ]
        },
        {
          "output_type": "stream",
          "name": "stderr",
          "text": [
            "/usr/local/lib/python3.11/dist-packages/keras/src/layers/core/embedding.py:90: UserWarning: Argument `input_length` is deprecated. Just remove it.\n",
            "  warnings.warn(\n"
          ]
        },
        {
          "output_type": "display_data",
          "data": {
            "text/plain": [
              "\u001b[1mModel: \"sequential\"\u001b[0m\n"
            ],
            "text/html": [
              "<pre style=\"white-space:pre;overflow-x:auto;line-height:normal;font-family:Menlo,'DejaVu Sans Mono',consolas,'Courier New',monospace\"><span style=\"font-weight: bold\">Model: \"sequential\"</span>\n",
              "</pre>\n"
            ]
          },
          "metadata": {}
        },
        {
          "output_type": "display_data",
          "data": {
            "text/plain": [
              "┏━━━━━━━━━━━━━━━━━━━━━━━━━━━━━━━━━┳━━━━━━━━━━━━━━━━━━━━━━━━┳━━━━━━━━━━━━━━━┓\n",
              "┃\u001b[1m \u001b[0m\u001b[1mLayer (type)                   \u001b[0m\u001b[1m \u001b[0m┃\u001b[1m \u001b[0m\u001b[1mOutput Shape          \u001b[0m\u001b[1m \u001b[0m┃\u001b[1m \u001b[0m\u001b[1m      Param #\u001b[0m\u001b[1m \u001b[0m┃\n",
              "┡━━━━━━━━━━━━━━━━━━━━━━━━━━━━━━━━━╇━━━━━━━━━━━━━━━━━━━━━━━━╇━━━━━━━━━━━━━━━┩\n",
              "│ embedding (\u001b[38;5;33mEmbedding\u001b[0m)           │ ?                      │   \u001b[38;5;34m0\u001b[0m (unbuilt) │\n",
              "├─────────────────────────────────┼────────────────────────┼───────────────┤\n",
              "│ lstm (\u001b[38;5;33mLSTM\u001b[0m)                     │ ?                      │   \u001b[38;5;34m0\u001b[0m (unbuilt) │\n",
              "├─────────────────────────────────┼────────────────────────┼───────────────┤\n",
              "│ dense (\u001b[38;5;33mDense\u001b[0m)                   │ ?                      │   \u001b[38;5;34m0\u001b[0m (unbuilt) │\n",
              "├─────────────────────────────────┼────────────────────────┼───────────────┤\n",
              "│ dense_1 (\u001b[38;5;33mDense\u001b[0m)                 │ ?                      │   \u001b[38;5;34m0\u001b[0m (unbuilt) │\n",
              "└─────────────────────────────────┴────────────────────────┴───────────────┘\n"
            ],
            "text/html": [
              "<pre style=\"white-space:pre;overflow-x:auto;line-height:normal;font-family:Menlo,'DejaVu Sans Mono',consolas,'Courier New',monospace\">┏━━━━━━━━━━━━━━━━━━━━━━━━━━━━━━━━━┳━━━━━━━━━━━━━━━━━━━━━━━━┳━━━━━━━━━━━━━━━┓\n",
              "┃<span style=\"font-weight: bold\"> Layer (type)                    </span>┃<span style=\"font-weight: bold\"> Output Shape           </span>┃<span style=\"font-weight: bold\">       Param # </span>┃\n",
              "┡━━━━━━━━━━━━━━━━━━━━━━━━━━━━━━━━━╇━━━━━━━━━━━━━━━━━━━━━━━━╇━━━━━━━━━━━━━━━┩\n",
              "│ embedding (<span style=\"color: #0087ff; text-decoration-color: #0087ff\">Embedding</span>)           │ ?                      │   <span style=\"color: #00af00; text-decoration-color: #00af00\">0</span> (unbuilt) │\n",
              "├─────────────────────────────────┼────────────────────────┼───────────────┤\n",
              "│ lstm (<span style=\"color: #0087ff; text-decoration-color: #0087ff\">LSTM</span>)                     │ ?                      │   <span style=\"color: #00af00; text-decoration-color: #00af00\">0</span> (unbuilt) │\n",
              "├─────────────────────────────────┼────────────────────────┼───────────────┤\n",
              "│ dense (<span style=\"color: #0087ff; text-decoration-color: #0087ff\">Dense</span>)                   │ ?                      │   <span style=\"color: #00af00; text-decoration-color: #00af00\">0</span> (unbuilt) │\n",
              "├─────────────────────────────────┼────────────────────────┼───────────────┤\n",
              "│ dense_1 (<span style=\"color: #0087ff; text-decoration-color: #0087ff\">Dense</span>)                 │ ?                      │   <span style=\"color: #00af00; text-decoration-color: #00af00\">0</span> (unbuilt) │\n",
              "└─────────────────────────────────┴────────────────────────┴───────────────┘\n",
              "</pre>\n"
            ]
          },
          "metadata": {}
        },
        {
          "output_type": "display_data",
          "data": {
            "text/plain": [
              "\u001b[1m Total params: \u001b[0m\u001b[38;5;34m0\u001b[0m (0.00 B)\n"
            ],
            "text/html": [
              "<pre style=\"white-space:pre;overflow-x:auto;line-height:normal;font-family:Menlo,'DejaVu Sans Mono',consolas,'Courier New',monospace\"><span style=\"font-weight: bold\"> Total params: </span><span style=\"color: #00af00; text-decoration-color: #00af00\">0</span> (0.00 B)\n",
              "</pre>\n"
            ]
          },
          "metadata": {}
        },
        {
          "output_type": "display_data",
          "data": {
            "text/plain": [
              "\u001b[1m Trainable params: \u001b[0m\u001b[38;5;34m0\u001b[0m (0.00 B)\n"
            ],
            "text/html": [
              "<pre style=\"white-space:pre;overflow-x:auto;line-height:normal;font-family:Menlo,'DejaVu Sans Mono',consolas,'Courier New',monospace\"><span style=\"font-weight: bold\"> Trainable params: </span><span style=\"color: #00af00; text-decoration-color: #00af00\">0</span> (0.00 B)\n",
              "</pre>\n"
            ]
          },
          "metadata": {}
        },
        {
          "output_type": "display_data",
          "data": {
            "text/plain": [
              "\u001b[1m Non-trainable params: \u001b[0m\u001b[38;5;34m0\u001b[0m (0.00 B)\n"
            ],
            "text/html": [
              "<pre style=\"white-space:pre;overflow-x:auto;line-height:normal;font-family:Menlo,'DejaVu Sans Mono',consolas,'Courier New',monospace\"><span style=\"font-weight: bold\"> Non-trainable params: </span><span style=\"color: #00af00; text-decoration-color: #00af00\">0</span> (0.00 B)\n",
              "</pre>\n"
            ]
          },
          "metadata": {}
        },
        {
          "output_type": "stream",
          "name": "stdout",
          "text": [
            "\n",
            "--- LSTM Model Training ---\n",
            "LSTM Model Training Finished.\n"
          ]
        },
        {
          "output_type": "display_data",
          "data": {
            "text/plain": [
              "<Figure size 1200x500 with 2 Axes>"
            ],
            "image/png": "[encoded data removed]"
          },
          "metadata": {}
        }
      ]
    },
    {
      "cell_type": "code",
      "source": [
        "# 1. Evaluate the LSTM model on the test data\n",
        "print(\"\\n--- LSTM Model Evaluation ---\")\n",
        "loss_lstm, accuracy_lstm = model_lstm.evaluate(X_test_seq, y_test_seq, verbose=0)\n",
        "print(f\"Test Loss (LSTM): {loss_lstm:.4f}\")\n",
        "print(f\"Test Accuracy (LSTM): {accuracy_lstm:.4f}\")\n",
        "\n",
        "# 2. Make predictions (probabilities) on the test data\n",
        "y_pred_probs_lstm = model_lstm.predict(X_test_seq)\n",
        "print(f\"\\nSample Prediction Probabilities (first 5):\\n{y_pred_probs_lstm[:5].flatten()}\")\n",
        "\n",
        "# Convert probabilities to binary class labels\n",
        "y_pred_classes_lstm = (y_pred_probs_lstm > 0.5).astype(int)\n",
        "print(f\"Sample Predicted Classes (first 5): {y_pred_classes_lstm[:5].flatten()}\")\n",
        "print(f\"Actual Test Classes (first 5): {y_test_seq[:5]}\")\n",
        "\n",
        "# Decode predicted numerical labels back to original sentiment strings\n",
        "y_pred_sentiment_lstm = label_encoder.inverse_transform(y_pred_classes_lstm.flatten())\n",
        "y_test_sentiment_lstm = label_encoder.inverse_transform(y_test_seq)\n",
        "\n",
        "print(f\"\\nSample Predicted Sentiments (first 5): {y_pred_sentiment_lstm[:5]}\")\n",
        "print(f\"Actual Test Sentiments (first 5): {y_test_sentiment_lstm[:5]}\")\n",
        "\n",
        "# Print Classification Report for LSTM\n",
        "print(\"\\nClassification Report for LSTM:\")\n",
        "print(classification_report(y_test_sentiment_lstm, y_pred_sentiment_lstm))\n",
        "\n",
        "# --- Predict on New Input Text with LSTM Model ---\n",
        "print(\"\\n--- Predicting on New Input Text with LSTM Model ---\")\n",
        "\n",
        "new_text_lstm_pos = \"This product is incredibly well-made and provides an outstanding experience.\"\n",
        "new_text_lstm_neg = \"This is the absolute worst experience I have ever had. Truly awful.\"\n",
        "\n",
        "# 1. Preprocess new text\n",
        "processed_new_text_lstm_pos = preprocess_text(new_text_lstm_pos)\n",
        "processed_new_text_lstm_neg = preprocess_text(new_text_lstm_neg)\n",
        "\n",
        "print(f\"\\nOriginal New Text (Positive): '{new_text_lstm_pos}'\")\n",
        "print(f\"Preprocessed New Text (Positive): '{processed_new_text_lstm_pos}'\")\n",
        "print(f\"\\nOriginal New Text (Negative): '{new_text_lstm_neg}'\")\n",
        "print(f\"Preprocessed New Text (Negative): '{processed_new_text_lstm_neg}'\")\n",
        "\n",
        "# 2. Convert new text to sequences (using the *same* fitted tokenizer)\n",
        "new_seq_pos = tokenizer.texts_to_sequences([processed_new_text_lstm_pos])\n",
        "new_seq_neg = tokenizer.texts_to_sequences([processed_new_text_lstm_neg])\n",
        "\n",
        "# 3. Pad the new sequences (using the *same* max_len)\n",
        "new_padded_seq_pos = pad_sequences(new_seq_pos, maxlen=max_len, padding='post', truncating='post')\n",
        "new_padded_seq_neg = pad_sequences(new_seq_neg, maxlen=max_len, padding='post', truncating='post')\n",
        "\n",
        "# 4. Make predictions (probabilities)\n",
        "prediction_prob_lstm_pos = model_lstm.predict(new_padded_seq_pos)[0][0]\n",
        "prediction_prob_lstm_neg = model_lstm.predict(new_padded_seq_neg)[0][0]\n",
        "\n",
        "# Convert probabilities to class labels\n",
        "predicted_class_lstm_pos = (prediction_prob_lstm_pos > 0.5).astype(int)\n",
        "predicted_class_lstm_neg = (prediction_prob_lstm_neg > 0.5).astype(int)\n",
        "\n",
        "# Decode numerical labels back to sentiment strings\n",
        "predicted_sentiment_lstm_pos = label_encoder.inverse_transform([predicted_class_lstm_pos])[0]\n",
        "predicted_sentiment_lstm_neg = label_encoder.inverse_transform([predicted_class_lstm_neg])[0]\n",
        "\n",
        "print(f\"\\nNew Text (Positive): '{new_text_lstm_pos}'\")\n",
        "print(f\"Predicted Probability (LSTM): {prediction_prob_lstm_pos:.4f}\")\n",
        "print(f\"Predicted Sentiment (LSTM): {predicted_sentiment_lstm_pos}\")\n",
        "\n",
        "print(f\"\\nNew Text (Negative): '{new_text_lstm_neg}'\")\n",
        "print(f\"Predicted Probability (LSTM): {prediction_prob_lstm_neg:.4f}\")\n",
        "print(f\"Predicted Sentiment (LSTM): {predicted_sentiment_lstm_neg}\")"
      ],
      "metadata": {
        "colab": {
          "base_uri": "https://localhost:8080/"
        },
        "id": "58ZudcNd_2b_",
        "outputId": "ac0e2a1b-4dc7-48be-bdb2-a660233867fe"
      },
      "execution_count": 7,
      "outputs": [
        {
          "output_type": "stream",
          "name": "stdout",
          "text": [
            "\n",
            "--- LSTM Model Evaluation ---\n",
            "Test Loss (LSTM): 1.5713\n",
            "Test Accuracy (LSTM): 0.6667\n",
            "\u001b[1m1/1\u001b[0m \u001b[32m━━━━━━━━━━━━━━━━━━━━\u001b[0m\u001b[37m\u001b[0m \u001b[1m1s\u001b[0m 800ms/step\n",
            "\n",
            "Sample Prediction Probabilities (first 5):\n",
            "[0.98793614 0.25167283 0.9936699 ]\n",
            "Sample Predicted Classes (first 5): [1 0 1]\n",
            "Actual Test Classes (first 5): [0 0 1]\n",
            "\n",
            "Sample Predicted Sentiments (first 5): ['positive' 'negative' 'positive']\n",
            "Actual Test Sentiments (first 5): ['negative' 'negative' 'positive']\n",
            "\n",
            "Classification Report for LSTM:\n",
            "              precision    recall  f1-score   support\n",
            "\n",
            "    negative       1.00      0.50      0.67         2\n",
            "    positive       0.50      1.00      0.67         1\n",
            "\n",
            "    accuracy                           0.67         3\n",
            "   macro avg       0.75      0.75      0.67         3\n",
            "weighted avg       0.83      0.67      0.67         3\n",
            "\n",
            "\n",
            "--- Predicting on New Input Text with LSTM Model ---\n",
            "\n",
            "Original New Text (Positive): 'This product is incredibly well-made and provides an outstanding experience.'\n",
            "Preprocessed New Text (Positive): 'product incredibly wellmade provides outstanding experience'\n",
            "\n",
            "Original New Text (Negative): 'This is the absolute worst experience I have ever had. Truly awful.'\n",
            "Preprocessed New Text (Negative): 'absolute worst experience ever truly awful'\n",
            "\u001b[1m1/1\u001b[0m \u001b[32m━━━━━━━━━━━━━━━━━━━━\u001b[0m\u001b[37m\u001b[0m \u001b[1m0s\u001b[0m 433ms/step\n",
            "\u001b[1m1/1\u001b[0m \u001b[32m━━━━━━━━━━━━━━━━━━━━\u001b[0m\u001b[37m\u001b[0m \u001b[1m0s\u001b[0m 92ms/step\n",
            "\n",
            "New Text (Positive): 'This product is incredibly well-made and provides an outstanding experience.'\n",
            "Predicted Probability (LSTM): 0.9190\n",
            "Predicted Sentiment (LSTM): positive\n",
            "\n",
            "New Text (Negative): 'This is the absolute worst experience I have ever had. Truly awful.'\n",
            "Predicted Probability (LSTM): 0.9985\n",
            "Predicted Sentiment (LSTM): positive\n"
          ]
        }
      ]
    },
    {
      "cell_type": "code",
      "source": [],
      "metadata": {
        "id": "lURGReM8ABvj"
      },
      "execution_count": null,
      "outputs": []
    }
  ]
}